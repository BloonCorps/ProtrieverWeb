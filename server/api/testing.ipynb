{
 "cells": [
  {
   "cell_type": "code",
   "execution_count": 9,
   "metadata": {},
   "outputs": [],
   "source": [
    "def search_sequence(request):\n",
    "    query = request.GET.get('query_sequence')\n",
    "\n",
    "    model = cache.get('model')\n",
    "    batch_converter = cache.get('batch_converter')\n",
    "\n",
    "    dataset = cache.get('dataset')\n",
    "    index = cache.get('faiss_index')\n",
    "\n",
    "    if dataset is None:\n",
    "        dataset = load_from_disk('9606') #server is run from the upper directory\n",
    "        columns_to_include = ['id', 'annotation', 'alias', 'seq_len', 't_sne']\n",
    "        data = [{col: row[col] for col in columns_to_include} for row in dataset]\n",
    "        cache.set('dataset', data)\n",
    "\n",
    "    if model is None or batch_converter is None:\n",
    "        model, alphabet = pretrained.esm2_t30_150M_UR50D()\n",
    "        batch_converter = alphabet.get_batch_converter()\n",
    "        device = torch.device(\"cuda:0\")\n",
    "        model.to(device)\n",
    "        cache.set('model', model)\n",
    "        cache.set('batch_converter', batch_converter)\n",
    "\n",
    "    if index ==None:\n",
    "        index = faiss.IndexHNSWFlat(640, 512, faiss.METRIC_L2)\n",
    "        dataset.add_faiss_index(\"embeddings\", custom_index=index)\n",
    "        index.set('index', index)\n",
    "\n",
    "    idx = retrieve_similar_sequences(query, dataset, return_num=200, \n",
    "                                     batch_converter=batch_converter, model=model)\n",
    "\n",
    "    result = indices_to_info(idx, dataset, annotation_len=400)\n",
    "\n",
    "    return JsonResponse(result, safe=False)"
   ]
  },
  {
   "cell_type": "code",
   "execution_count": 7,
   "metadata": {},
   "outputs": [],
   "source": [
    "from django.http import JsonResponse\n",
    "from datasets import load_dataset, load_from_disk\n",
    "from django.core.cache import cache\n",
    "from django.views.decorators.http import require_http_methods\n",
    "from esm import pretrained\n",
    "import torch\n",
    "import faiss\n"
   ]
  }
 ],
 "metadata": {
  "kernelspec": {
   "display_name": "base",
   "language": "python",
   "name": "python3"
  },
  "language_info": {
   "codemirror_mode": {
    "name": "ipython",
    "version": 3
   },
   "file_extension": ".py",
   "mimetype": "text/x-python",
   "name": "python",
   "nbconvert_exporter": "python",
   "pygments_lexer": "ipython3",
   "version": "3.8.8"
  },
  "orig_nbformat": 4
 },
 "nbformat": 4,
 "nbformat_minor": 2
}
