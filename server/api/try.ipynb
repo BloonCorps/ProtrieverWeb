{
 "cells": [
  {
   "cell_type": "code",
   "execution_count": 1,
   "metadata": {},
   "outputs": [
    {
     "ename": "ImproperlyConfigured",
     "evalue": "Requested setting REST_FRAMEWORK, but settings are not configured. You must either define the environment variable DJANGO_SETTINGS_MODULE or call settings.configure() before accessing settings.",
     "output_type": "error",
     "traceback": [
      "\u001b[1;31m---------------------------------------------------------------------------\u001b[0m",
      "\u001b[1;31mImproperlyConfigured\u001b[0m                      Traceback (most recent call last)",
      "Cell \u001b[1;32mIn[1], line 3\u001b[0m\n\u001b[0;32m      1\u001b[0m \u001b[39mfrom\u001b[39;00m \u001b[39mdjango\u001b[39;00m\u001b[39m.\u001b[39;00m\u001b[39mhttp\u001b[39;00m \u001b[39mimport\u001b[39;00m JsonResponse\n\u001b[0;32m      2\u001b[0m \u001b[39mfrom\u001b[39;00m \u001b[39mdatasets\u001b[39;00m \u001b[39mimport\u001b[39;00m load_dataset, load_from_disk\n\u001b[1;32m----> 3\u001b[0m \u001b[39mfrom\u001b[39;00m \u001b[39mrest_framework\u001b[39;00m\u001b[39m.\u001b[39;00m\u001b[39mviews\u001b[39;00m \u001b[39mimport\u001b[39;00m APIView\n\u001b[0;32m      4\u001b[0m \u001b[39mfrom\u001b[39;00m \u001b[39mrest_framework\u001b[39;00m\u001b[39m.\u001b[39;00m\u001b[39mresponse\u001b[39;00m \u001b[39mimport\u001b[39;00m Response\n\u001b[0;32m      5\u001b[0m \u001b[39mfrom\u001b[39;00m \u001b[39mdjango\u001b[39;00m\u001b[39m.\u001b[39;00m\u001b[39mcore\u001b[39;00m\u001b[39m.\u001b[39;00m\u001b[39mcache\u001b[39;00m \u001b[39mimport\u001b[39;00m cache\n",
      "File \u001b[1;32mE:\\Users\\jared\\AppData\\Roaming\\Python\\Python311\\site-packages\\rest_framework\\views.py:17\u001b[0m\n\u001b[0;32m     15\u001b[0m \u001b[39mfrom\u001b[39;00m \u001b[39mrest_framework\u001b[39;00m\u001b[39m.\u001b[39;00m\u001b[39mrequest\u001b[39;00m \u001b[39mimport\u001b[39;00m Request\n\u001b[0;32m     16\u001b[0m \u001b[39mfrom\u001b[39;00m \u001b[39mrest_framework\u001b[39;00m\u001b[39m.\u001b[39;00m\u001b[39mresponse\u001b[39;00m \u001b[39mimport\u001b[39;00m Response\n\u001b[1;32m---> 17\u001b[0m \u001b[39mfrom\u001b[39;00m \u001b[39mrest_framework\u001b[39;00m\u001b[39m.\u001b[39;00m\u001b[39mschemas\u001b[39;00m \u001b[39mimport\u001b[39;00m DefaultSchema\n\u001b[0;32m     18\u001b[0m \u001b[39mfrom\u001b[39;00m \u001b[39mrest_framework\u001b[39;00m\u001b[39m.\u001b[39;00m\u001b[39msettings\u001b[39;00m \u001b[39mimport\u001b[39;00m api_settings\n\u001b[0;32m     19\u001b[0m \u001b[39mfrom\u001b[39;00m \u001b[39mrest_framework\u001b[39;00m\u001b[39m.\u001b[39;00m\u001b[39mutils\u001b[39;00m \u001b[39mimport\u001b[39;00m formatting\n",
      "File \u001b[1;32mE:\\Users\\jared\\AppData\\Roaming\\Python\\Python311\\site-packages\\rest_framework\\schemas\\__init__.py:25\u001b[0m\n\u001b[0;32m      1\u001b[0m \u001b[39m\"\"\"\u001b[39;00m\n\u001b[0;32m      2\u001b[0m \u001b[39mrest_framework.schemas\u001b[39;00m\n\u001b[0;32m      3\u001b[0m \n\u001b[1;32m   (...)\u001b[0m\n\u001b[0;32m     21\u001b[0m \u001b[39mOther access should target the submodules directly\u001b[39;00m\n\u001b[0;32m     22\u001b[0m \u001b[39m\"\"\"\u001b[39;00m\n\u001b[0;32m     23\u001b[0m \u001b[39mfrom\u001b[39;00m \u001b[39mrest_framework\u001b[39;00m\u001b[39m.\u001b[39;00m\u001b[39msettings\u001b[39;00m \u001b[39mimport\u001b[39;00m api_settings\n\u001b[1;32m---> 25\u001b[0m \u001b[39mfrom\u001b[39;00m \u001b[39m.\u001b[39;00m \u001b[39mimport\u001b[39;00m coreapi, openapi\n\u001b[0;32m     26\u001b[0m \u001b[39mfrom\u001b[39;00m \u001b[39m.\u001b[39;00m\u001b[39mcoreapi\u001b[39;00m \u001b[39mimport\u001b[39;00m AutoSchema, ManualSchema, SchemaGenerator  \u001b[39m# noqa\u001b[39;00m\n\u001b[0;32m     27\u001b[0m \u001b[39mfrom\u001b[39;00m \u001b[39m.\u001b[39;00m\u001b[39minspectors\u001b[39;00m \u001b[39mimport\u001b[39;00m DefaultSchema  \u001b[39m# noqa\u001b[39;00m\n",
      "File \u001b[1;32mE:\\Users\\jared\\AppData\\Roaming\\Python\\Python311\\site-packages\\rest_framework\\schemas\\openapi.py:15\u001b[0m\n\u001b[0;32m     12\u001b[0m \u001b[39mfrom\u001b[39;00m \u001b[39mdjango\u001b[39;00m\u001b[39m.\u001b[39;00m\u001b[39mdb\u001b[39;00m \u001b[39mimport\u001b[39;00m models\n\u001b[0;32m     13\u001b[0m \u001b[39mfrom\u001b[39;00m \u001b[39mdjango\u001b[39;00m\u001b[39m.\u001b[39;00m\u001b[39mutils\u001b[39;00m\u001b[39m.\u001b[39;00m\u001b[39mencoding\u001b[39;00m \u001b[39mimport\u001b[39;00m force_str\n\u001b[1;32m---> 15\u001b[0m \u001b[39mfrom\u001b[39;00m \u001b[39mrest_framework\u001b[39;00m \u001b[39mimport\u001b[39;00m (\n\u001b[0;32m     16\u001b[0m     RemovedInDRF315Warning, exceptions, renderers, serializers\n\u001b[0;32m     17\u001b[0m )\n\u001b[0;32m     18\u001b[0m \u001b[39mfrom\u001b[39;00m \u001b[39mrest_framework\u001b[39;00m\u001b[39m.\u001b[39;00m\u001b[39mcompat\u001b[39;00m \u001b[39mimport\u001b[39;00m uritemplate\n\u001b[0;32m     19\u001b[0m \u001b[39mfrom\u001b[39;00m \u001b[39mrest_framework\u001b[39;00m\u001b[39m.\u001b[39;00m\u001b[39mfields\u001b[39;00m \u001b[39mimport\u001b[39;00m _UnvalidatedField, empty\n",
      "File \u001b[1;32mE:\\Users\\jared\\AppData\\Roaming\\Python\\Python311\\site-packages\\rest_framework\\renderers.py:52\u001b[0m\n\u001b[0;32m     48\u001b[0m     \u001b[39mdef\u001b[39;00m \u001b[39mrender\u001b[39m(\u001b[39mself\u001b[39m, data, accepted_media_type\u001b[39m=\u001b[39m\u001b[39mNone\u001b[39;00m, renderer_context\u001b[39m=\u001b[39m\u001b[39mNone\u001b[39;00m):\n\u001b[0;32m     49\u001b[0m         \u001b[39mraise\u001b[39;00m \u001b[39mNotImplementedError\u001b[39;00m(\u001b[39m'\u001b[39m\u001b[39mRenderer class requires .render() to be implemented\u001b[39m\u001b[39m'\u001b[39m)\n\u001b[1;32m---> 52\u001b[0m \u001b[39mclass\u001b[39;00m \u001b[39mJSONRenderer\u001b[39;00m(BaseRenderer):\n\u001b[0;32m     53\u001b[0m \u001b[39m    \u001b[39m\u001b[39m\"\"\"\u001b[39;00m\n\u001b[0;32m     54\u001b[0m \u001b[39m    Renderer which serializes to JSON.\u001b[39;00m\n\u001b[0;32m     55\u001b[0m \u001b[39m    \"\"\"\u001b[39;00m\n\u001b[0;32m     56\u001b[0m     media_type \u001b[39m=\u001b[39m \u001b[39m'\u001b[39m\u001b[39mapplication/json\u001b[39m\u001b[39m'\u001b[39m\n",
      "File \u001b[1;32mE:\\Users\\jared\\AppData\\Roaming\\Python\\Python311\\site-packages\\rest_framework\\renderers.py:59\u001b[0m, in \u001b[0;36mJSONRenderer\u001b[1;34m()\u001b[0m\n\u001b[0;32m     57\u001b[0m \u001b[39mformat\u001b[39m \u001b[39m=\u001b[39m \u001b[39m'\u001b[39m\u001b[39mjson\u001b[39m\u001b[39m'\u001b[39m\n\u001b[0;32m     58\u001b[0m encoder_class \u001b[39m=\u001b[39m encoders\u001b[39m.\u001b[39mJSONEncoder\n\u001b[1;32m---> 59\u001b[0m ensure_ascii \u001b[39m=\u001b[39m \u001b[39mnot\u001b[39;00m api_settings\u001b[39m.\u001b[39mUNICODE_JSON\n\u001b[0;32m     60\u001b[0m compact \u001b[39m=\u001b[39m api_settings\u001b[39m.\u001b[39mCOMPACT_JSON\n\u001b[0;32m     61\u001b[0m strict \u001b[39m=\u001b[39m api_settings\u001b[39m.\u001b[39mSTRICT_JSON\n",
      "File \u001b[1;32mE:\\Users\\jared\\AppData\\Roaming\\Python\\Python311\\site-packages\\rest_framework\\settings.py:218\u001b[0m, in \u001b[0;36mAPISettings.__getattr__\u001b[1;34m(self, attr)\u001b[0m\n\u001b[0;32m    214\u001b[0m     \u001b[39mraise\u001b[39;00m \u001b[39mAttributeError\u001b[39;00m(\u001b[39m\"\u001b[39m\u001b[39mInvalid API setting: \u001b[39m\u001b[39m'\u001b[39m\u001b[39m%s\u001b[39;00m\u001b[39m'\u001b[39m\u001b[39m\"\u001b[39m \u001b[39m%\u001b[39m attr)\n\u001b[0;32m    216\u001b[0m \u001b[39mtry\u001b[39;00m:\n\u001b[0;32m    217\u001b[0m     \u001b[39m# Check if present in user settings\u001b[39;00m\n\u001b[1;32m--> 218\u001b[0m     val \u001b[39m=\u001b[39m \u001b[39mself\u001b[39m\u001b[39m.\u001b[39muser_settings[attr]\n\u001b[0;32m    219\u001b[0m \u001b[39mexcept\u001b[39;00m \u001b[39mKeyError\u001b[39;00m:\n\u001b[0;32m    220\u001b[0m     \u001b[39m# Fall back to defaults\u001b[39;00m\n\u001b[0;32m    221\u001b[0m     val \u001b[39m=\u001b[39m \u001b[39mself\u001b[39m\u001b[39m.\u001b[39mdefaults[attr]\n",
      "File \u001b[1;32mE:\\Users\\jared\\AppData\\Roaming\\Python\\Python311\\site-packages\\rest_framework\\settings.py:209\u001b[0m, in \u001b[0;36mAPISettings.user_settings\u001b[1;34m(self)\u001b[0m\n\u001b[0;32m    206\u001b[0m \u001b[39m@property\u001b[39m\n\u001b[0;32m    207\u001b[0m \u001b[39mdef\u001b[39;00m \u001b[39muser_settings\u001b[39m(\u001b[39mself\u001b[39m):\n\u001b[0;32m    208\u001b[0m     \u001b[39mif\u001b[39;00m \u001b[39mnot\u001b[39;00m \u001b[39mhasattr\u001b[39m(\u001b[39mself\u001b[39m, \u001b[39m'\u001b[39m\u001b[39m_user_settings\u001b[39m\u001b[39m'\u001b[39m):\n\u001b[1;32m--> 209\u001b[0m         \u001b[39mself\u001b[39m\u001b[39m.\u001b[39m_user_settings \u001b[39m=\u001b[39m \u001b[39mgetattr\u001b[39m(settings, \u001b[39m'\u001b[39m\u001b[39mREST_FRAMEWORK\u001b[39m\u001b[39m'\u001b[39m, {})\n\u001b[0;32m    210\u001b[0m     \u001b[39mreturn\u001b[39;00m \u001b[39mself\u001b[39m\u001b[39m.\u001b[39m_user_settings\n",
      "File \u001b[1;32mE:\\Users\\jared\\AppData\\Roaming\\Python\\Python311\\site-packages\\django\\conf\\__init__.py:102\u001b[0m, in \u001b[0;36mLazySettings.__getattr__\u001b[1;34m(self, name)\u001b[0m\n\u001b[0;32m    100\u001b[0m \u001b[39m\u001b[39m\u001b[39m\"\"\"Return the value of a setting and cache it in self.__dict__.\"\"\"\u001b[39;00m\n\u001b[0;32m    101\u001b[0m \u001b[39mif\u001b[39;00m (_wrapped \u001b[39m:=\u001b[39m \u001b[39mself\u001b[39m\u001b[39m.\u001b[39m_wrapped) \u001b[39mis\u001b[39;00m empty:\n\u001b[1;32m--> 102\u001b[0m     \u001b[39mself\u001b[39m\u001b[39m.\u001b[39m_setup(name)\n\u001b[0;32m    103\u001b[0m     _wrapped \u001b[39m=\u001b[39m \u001b[39mself\u001b[39m\u001b[39m.\u001b[39m_wrapped\n\u001b[0;32m    104\u001b[0m val \u001b[39m=\u001b[39m \u001b[39mgetattr\u001b[39m(_wrapped, name)\n",
      "File \u001b[1;32mE:\\Users\\jared\\AppData\\Roaming\\Python\\Python311\\site-packages\\django\\conf\\__init__.py:82\u001b[0m, in \u001b[0;36mLazySettings._setup\u001b[1;34m(self, name)\u001b[0m\n\u001b[0;32m     80\u001b[0m \u001b[39mif\u001b[39;00m \u001b[39mnot\u001b[39;00m settings_module:\n\u001b[0;32m     81\u001b[0m     desc \u001b[39m=\u001b[39m (\u001b[39m\"\u001b[39m\u001b[39msetting \u001b[39m\u001b[39m%s\u001b[39;00m\u001b[39m\"\u001b[39m \u001b[39m%\u001b[39m name) \u001b[39mif\u001b[39;00m name \u001b[39melse\u001b[39;00m \u001b[39m\"\u001b[39m\u001b[39msettings\u001b[39m\u001b[39m\"\u001b[39m\n\u001b[1;32m---> 82\u001b[0m     \u001b[39mraise\u001b[39;00m ImproperlyConfigured(\n\u001b[0;32m     83\u001b[0m         \u001b[39m\"\u001b[39m\u001b[39mRequested \u001b[39m\u001b[39m%s\u001b[39;00m\u001b[39m, but settings are not configured. \u001b[39m\u001b[39m\"\u001b[39m\n\u001b[0;32m     84\u001b[0m         \u001b[39m\"\u001b[39m\u001b[39mYou must either define the environment variable \u001b[39m\u001b[39m%s\u001b[39;00m\u001b[39m \u001b[39m\u001b[39m\"\u001b[39m\n\u001b[0;32m     85\u001b[0m         \u001b[39m\"\u001b[39m\u001b[39mor call settings.configure() before accessing settings.\u001b[39m\u001b[39m\"\u001b[39m\n\u001b[0;32m     86\u001b[0m         \u001b[39m%\u001b[39m (desc, ENVIRONMENT_VARIABLE)\n\u001b[0;32m     87\u001b[0m     )\n\u001b[0;32m     89\u001b[0m \u001b[39mself\u001b[39m\u001b[39m.\u001b[39m_wrapped \u001b[39m=\u001b[39m Settings(settings_module)\n",
      "\u001b[1;31mImproperlyConfigured\u001b[0m: Requested setting REST_FRAMEWORK, but settings are not configured. You must either define the environment variable DJANGO_SETTINGS_MODULE or call settings.configure() before accessing settings."
     ]
    }
   ],
   "source": [
    "from django.http import JsonResponse\n",
    "from datasets import load_dataset, load_from_disk\n",
    "from rest_framework.views import APIView\n",
    "from rest_framework.response import Response\n",
    "from django.core.cache import cache\n",
    "from django.views.decorators.http import require_http_methods\n",
    "from esm import pretrained\n",
    "import torch\n",
    "import faiss\n",
    "from Protriever.src.databases.alias_to_index import retrieve_indices\n",
    "from datasets import concatenate_datasets\n",
    "\n",
    "from Protriever.models.search import *\n",
    "\n",
    "def get_data(request):\n",
    "\n",
    "    dataset = cache.get('dataset')\n",
    "\n",
    "    if dataset is None:\n",
    "        raw_dataset = load_from_disk('Protriever/src/data/processed/HFAll/9606/')\n",
    "        columns_to_include = ['id', 'annotation', 'alias', 'seq_len', 't_sne', 'protein_coding']\n",
    "        dataset = [{col: row[col] for col in columns_to_include} for row in raw_dataset if row['protein_coding']]\n",
    "        cache.set('dataset', dataset)\n",
    "    \n",
    "    return JsonResponse(dataset, safe=False)"
   ]
  },
  {
   "cell_type": "code",
   "execution_count": 2,
   "metadata": {},
   "outputs": [
    {
     "ename": "FileNotFoundError",
     "evalue": "Directory Protriever/src/data/processed/HFAll/9606/ not found",
     "output_type": "error",
     "traceback": [
      "\u001b[1;31m---------------------------------------------------------------------------\u001b[0m",
      "\u001b[1;31mFileNotFoundError\u001b[0m                         Traceback (most recent call last)",
      "Cell \u001b[1;32mIn[2], line 1\u001b[0m\n\u001b[1;32m----> 1\u001b[0m raw_dataset \u001b[39m=\u001b[39m load_from_disk(\u001b[39m'\u001b[39m\u001b[39mProtriever/src/data/processed/HFAll/9606/\u001b[39m\u001b[39m'\u001b[39m)\n",
      "File \u001b[1;32mE:\\Users\\jared\\AppData\\Roaming\\Python\\Python311\\site-packages\\datasets\\load.py:2227\u001b[0m, in \u001b[0;36mload_from_disk\u001b[1;34m(dataset_path, fs, keep_in_memory, storage_options)\u001b[0m\n\u001b[0;32m   2224\u001b[0m     path_join \u001b[39m=\u001b[39m os\u001b[39m.\u001b[39mpath\u001b[39m.\u001b[39mjoin\n\u001b[0;32m   2226\u001b[0m \u001b[39mif\u001b[39;00m \u001b[39mnot\u001b[39;00m fs\u001b[39m.\u001b[39mexists(dest_dataset_path):\n\u001b[1;32m-> 2227\u001b[0m     \u001b[39mraise\u001b[39;00m \u001b[39mFileNotFoundError\u001b[39;00m(\u001b[39mf\u001b[39m\u001b[39m\"\u001b[39m\u001b[39mDirectory \u001b[39m\u001b[39m{\u001b[39;00mdataset_path\u001b[39m}\u001b[39;00m\u001b[39m not found\u001b[39m\u001b[39m\"\u001b[39m)\n\u001b[0;32m   2228\u001b[0m \u001b[39mif\u001b[39;00m fs\u001b[39m.\u001b[39misfile(path_join(dest_dataset_path, config\u001b[39m.\u001b[39mDATASET_INFO_FILENAME)) \u001b[39mand\u001b[39;00m fs\u001b[39m.\u001b[39misfile(\n\u001b[0;32m   2229\u001b[0m     path_join(dest_dataset_path, config\u001b[39m.\u001b[39mDATASET_STATE_JSON_FILENAME)\n\u001b[0;32m   2230\u001b[0m ):\n\u001b[0;32m   2231\u001b[0m     \u001b[39mreturn\u001b[39;00m Dataset\u001b[39m.\u001b[39mload_from_disk(dataset_path, keep_in_memory\u001b[39m=\u001b[39mkeep_in_memory, storage_options\u001b[39m=\u001b[39mstorage_options)\n",
      "\u001b[1;31mFileNotFoundError\u001b[0m: Directory Protriever/src/data/processed/HFAll/9606/ not found"
     ]
    }
   ],
   "source": [
    "raw_dataset = load_from_disk('f/Dropbox (MIT)/Desktop/ProtrieverWeb/server/Protriever/src/data/processed/HFAll/9606/')"
   ]
  }
 ],
 "metadata": {
  "kernelspec": {
   "display_name": "base",
   "language": "python",
   "name": "python3"
  },
  "language_info": {
   "codemirror_mode": {
    "name": "ipython",
    "version": 3
   },
   "file_extension": ".py",
   "mimetype": "text/x-python",
   "name": "python",
   "nbconvert_exporter": "python",
   "pygments_lexer": "ipython3",
   "version": "3.11.4"
  },
  "orig_nbformat": 4
 },
 "nbformat": 4,
 "nbformat_minor": 2
}
